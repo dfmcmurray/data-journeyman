{
 "metadata": {
  "name": "",
  "signature": "sha256:3907cd7a26edc9f4938fa01ddbbaed8716ed2014485fb53e42b728f3fe77ae2e"
 },
 "nbformat": 3,
 "nbformat_minor": 0,
 "worksheets": [
  {
   "cells": [
    {
     "cell_type": "code",
     "collapsed": false,
     "input": [
      "# Python can be entered into these boxes. Click and press <Shift> + Enter to evaluate.\n",
      "# Declarations are maintained, so I will often assume you will execute sections in order.\n",
      "print \"Hello, Notebook\""
     ],
     "language": "python",
     "metadata": {},
     "outputs": [
      {
       "output_type": "stream",
       "stream": "stdout",
       "text": [
        "Hello, Notebook\n"
       ]
      }
     ],
     "prompt_number": 1
    },
    {
     "cell_type": "code",
     "collapsed": false,
     "input": [
      "# Execute the following sections for a quick look at NumPy.\n",
      "# Note: if you ran this notebook with --pylab=inline, then you don't need this import statement\n",
      "from numpy import *"
     ],
     "language": "python",
     "metadata": {},
     "outputs": [],
     "prompt_number": 1
    },
    {
     "cell_type": "code",
     "collapsed": false,
     "input": [
      "arr = arange(10)\n",
      "arr"
     ],
     "language": "python",
     "metadata": {},
     "outputs": [
      {
       "metadata": {},
       "output_type": "pyout",
       "prompt_number": 3,
       "text": [
        "array([0, 1, 2, 3, 4, 5, 6, 7, 8, 9])"
       ]
      }
     ],
     "prompt_number": 3
    },
    {
     "cell_type": "code",
     "collapsed": false,
     "input": [
      "# Python indexing syntax can be used\n",
      "arr[3:9:2]"
     ],
     "language": "python",
     "metadata": {},
     "outputs": [
      {
       "metadata": {},
       "output_type": "pyout",
       "prompt_number": 4,
       "text": [
        "array([3, 5, 7])"
       ]
      }
     ],
     "prompt_number": 4
    },
    {
     "cell_type": "code",
     "collapsed": false,
     "input": [
      "arr2 = arange(10).reshape(2, 5)\n",
      "arr2"
     ],
     "language": "python",
     "metadata": {},
     "outputs": [
      {
       "metadata": {},
       "output_type": "pyout",
       "prompt_number": 5,
       "text": [
        "array([[0, 1, 2, 3, 4],\n",
        "       [5, 6, 7, 8, 9]])"
       ]
      }
     ],
     "prompt_number": 5
    },
    {
     "cell_type": "code",
     "collapsed": false,
     "input": [
      "# You can index on each dimension\n",
      "arr2[1, ::2]"
     ],
     "language": "python",
     "metadata": {},
     "outputs": [
      {
       "metadata": {},
       "output_type": "pyout",
       "prompt_number": 6,
       "text": [
        "array([5, 7, 9])"
       ]
      }
     ],
     "prompt_number": 6
    },
    {
     "cell_type": "code",
     "collapsed": false,
     "input": [
      "arr2 ** 2"
     ],
     "language": "python",
     "metadata": {},
     "outputs": [
      {
       "metadata": {},
       "output_type": "pyout",
       "prompt_number": 7,
       "text": [
        "array([[ 0,  1,  4,  9, 16],\n",
        "       [25, 36, 49, 64, 81]])"
       ]
      }
     ],
     "prompt_number": 7
    },
    {
     "cell_type": "code",
     "collapsed": false,
     "input": [
      "sin(arr2)"
     ],
     "language": "python",
     "metadata": {},
     "outputs": [
      {
       "metadata": {},
       "output_type": "pyout",
       "prompt_number": 8,
       "text": [
        "array([[ 0.        ,  0.84147098,  0.90929743,  0.14112001, -0.7568025 ],\n",
        "       [-0.95892427, -0.2794155 ,  0.6569866 ,  0.98935825,  0.41211849]])"
       ]
      }
     ],
     "prompt_number": 8
    },
    {
     "cell_type": "code",
     "collapsed": false,
     "input": [
      "arr2 < 7"
     ],
     "language": "python",
     "metadata": {},
     "outputs": [
      {
       "metadata": {},
       "output_type": "pyout",
       "prompt_number": 9,
       "text": [
        "array([[ True,  True,  True,  True,  True],\n",
        "       [ True,  True, False, False, False]], dtype=bool)"
       ]
      }
     ],
     "prompt_number": 9
    },
    {
     "cell_type": "code",
     "collapsed": false,
     "input": [
      "arr2 % 2 == 0"
     ],
     "language": "python",
     "metadata": {},
     "outputs": [
      {
       "metadata": {},
       "output_type": "pyout",
       "prompt_number": 10,
       "text": [
        "array([[ True, False,  True, False,  True],\n",
        "       [False,  True, False,  True, False]], dtype=bool)"
       ]
      }
     ],
     "prompt_number": 10
    },
    {
     "cell_type": "code",
     "collapsed": false,
     "input": [
      "matrix = arange(9).reshape(3,3)\n",
      "matrix"
     ],
     "language": "python",
     "metadata": {},
     "outputs": [
      {
       "metadata": {},
       "output_type": "pyout",
       "prompt_number": 11,
       "text": [
        "array([[0, 1, 2],\n",
        "       [3, 4, 5],\n",
        "       [6, 7, 8]])"
       ]
      }
     ],
     "prompt_number": 11
    },
    {
     "cell_type": "code",
     "collapsed": false,
     "input": [
      "matrix.max()"
     ],
     "language": "python",
     "metadata": {},
     "outputs": [
      {
       "metadata": {},
       "output_type": "pyout",
       "prompt_number": 12,
       "text": [
        "8"
       ]
      }
     ],
     "prompt_number": 12
    },
    {
     "cell_type": "code",
     "collapsed": false,
     "input": [
      "matrix.sum()"
     ],
     "language": "python",
     "metadata": {},
     "outputs": [
      {
       "metadata": {},
       "output_type": "pyout",
       "prompt_number": 13,
       "text": [
        "36"
       ]
      }
     ],
     "prompt_number": 13
    },
    {
     "cell_type": "code",
     "collapsed": false,
     "input": [
      "i = identity(3) # a 3x3 identity matrix\n",
      "i"
     ],
     "language": "python",
     "metadata": {},
     "outputs": [
      {
       "metadata": {},
       "output_type": "pyout",
       "prompt_number": 14,
       "text": [
        "array([[ 1.,  0.,  0.],\n",
        "       [ 0.,  1.,  0.],\n",
        "       [ 0.,  0.,  1.]])"
       ]
      }
     ],
     "prompt_number": 14
    },
    {
     "cell_type": "code",
     "collapsed": false,
     "input": [
      "matrix * i # element-wise multiplication"
     ],
     "language": "python",
     "metadata": {},
     "outputs": [
      {
       "metadata": {},
       "output_type": "pyout",
       "prompt_number": 34,
       "text": [
        "array([[ 0.,  0.,  0.],\n",
        "       [ 0.,  4.,  0.],\n",
        "       [ 0.,  0.,  8.]])"
       ]
      }
     ],
     "prompt_number": 34
    },
    {
     "cell_type": "code",
     "collapsed": false,
     "input": [
      "dot(matrix, i) # matrix multiplication"
     ],
     "language": "python",
     "metadata": {},
     "outputs": [
      {
       "metadata": {},
       "output_type": "pyout",
       "prompt_number": 15,
       "text": [
        "array([[ 0.,  1.,  2.],\n",
        "       [ 3.,  4.,  5.],\n",
        "       [ 6.,  7.,  8.]])"
       ]
      }
     ],
     "prompt_number": 15
    },
    {
     "cell_type": "code",
     "collapsed": false,
     "input": [
      "# This barely scrapes the surface of NumPy. \n",
      "# See this tutorial for much more detail:\n",
      "# http://wiki.scipy.org/Tentative_NumPy_Tutorial#head-6a1bc005bd80e1b19f812e1e64e0d25d50f99fe2 "
     ],
     "language": "python",
     "metadata": {},
     "outputs": []
    },
    {
     "cell_type": "code",
     "collapsed": false,
     "input": [
      "# The next few sections explore matplotlib\n",
      "# Note: if you ran this notebook with --pylab=inline, then you don't need these import/setup statements\n",
      "from matplotlib import pyplot\n",
      "from matplotlib.pyplot import *\n",
      "%matplotlib inline"
     ],
     "language": "python",
     "metadata": {},
     "outputs": [],
     "prompt_number": 7
    },
    {
     "cell_type": "code",
     "collapsed": false,
     "input": [
      "plot(arange(10))"
     ],
     "language": "python",
     "metadata": {},
     "outputs": [
      {
       "metadata": {},
       "output_type": "pyout",
       "prompt_number": 10,
       "text": [
        "[<matplotlib.lines.Line2D at 0x107a26c50>]"
       ]
      },
      {
       "metadata": {},
       "output_type": "display_data",
       "png": "[encoded data removed]",
       "text": [
        "<matplotlib.figure.Figure at 0x107824fd0>"
       ]
      }
     ],
     "prompt_number": 10
    },
    {
     "cell_type": "code",
     "collapsed": false,
     "input": [
      "plot(random.random((10)))"
     ],
     "language": "python",
     "metadata": {},
     "outputs": [
      {
       "metadata": {},
       "output_type": "pyout",
       "prompt_number": 11,
       "text": [
        "[<matplotlib.lines.Line2D at 0x107a5cc10>]"
       ]
      },
      {
       "metadata": {},
       "output_type": "display_data",
       "png": "[encoded data removed]",
       "text": [
        "<matplotlib.figure.Figure at 0x107a3d9d0>"
       ]
      }
     ],
     "prompt_number": 11
    },
    {
     "cell_type": "code",
     "collapsed": false,
     "input": [
      "data = random.random((100)) * 100\n",
      "pyplot.title(\"Histogram\")\n",
      "pyplot.xlabel(\"X Axis\");\n",
      "pyplot.ylabel(\"Y Axis\")\n",
      "hist(data, bins=10, range=(0, 100))"
     ],
     "language": "python",
     "metadata": {},
     "outputs": [
      {
       "metadata": {},
       "output_type": "pyout",
       "prompt_number": 12,
       "text": [
        "(array([ 14.,  10.,   8.,   9.,  12.,   9.,  12.,   7.,   6.,  13.]),\n",
        " array([   0.,   10.,   20.,   30.,   40.,   50.,   60.,   70.,   80.,\n",
        "          90.,  100.]),\n",
        " <a list of 10 Patch objects>)"
       ]
      },
      {
       "metadata": {},
       "output_type": "display_data",
       "png": "[encoded data removed]",
       "text": [
        "<matplotlib.figure.Figure at 0x107a68310>"
       ]
      }
     ],
     "prompt_number": 12
    },
    {
     "cell_type": "code",
     "collapsed": false,
     "input": [
      "data = random.normal(50, 10, 100)\n",
      "pyplot.title(\"Boxplot\")\n",
      "pyplot.xlabel(\"X Axis\");\n",
      "pyplot.ylabel(\"Y Axis\")\n",
      "boxplot(data)"
     ],
     "language": "python",
     "metadata": {},
     "outputs": [
      {
       "metadata": {},
       "output_type": "pyout",
       "prompt_number": 13,
       "text": [
        "{'boxes': [<matplotlib.lines.Line2D at 0x107b17050>],\n",
        " 'caps': [<matplotlib.lines.Line2D at 0x107b14390>,\n",
        "  <matplotlib.lines.Line2D at 0x107b149d0>],\n",
        " 'fliers': [<matplotlib.lines.Line2D at 0x107b17cd0>,\n",
        "  <matplotlib.lines.Line2D at 0x107b1a6d0>],\n",
        " 'medians': [<matplotlib.lines.Line2D at 0x107b17690>],\n",
        " 'whiskers': [<matplotlib.lines.Line2D at 0x107b10a50>,\n",
        "  <matplotlib.lines.Line2D at 0x107b10cd0>]}"
       ]
      },
      {
       "metadata": {},
       "output_type": "display_data",
       "png": "[encoded data removed]",
       "text": [
        "<matplotlib.figure.Figure at 0x107aec850>"
       ]
      }
     ],
     "prompt_number": 13
    },
    {
     "cell_type": "code",
     "collapsed": false,
     "input": [
      "# See the matplotlib website for more examples:\n",
      "# http://matplotlib.org/examples/index.html "
     ],
     "language": "python",
     "metadata": {},
     "outputs": []
    },
    {
     "cell_type": "code",
     "collapsed": false,
     "input": [
      "# The next few sections explore pandas\n",
      "# It is NOT imported with --pylab=inline, so you'll need to install it and run this import statement\n",
      "# Installation Guide: http://pandas.pydata.org/pandas-docs/stable/install.html\n",
      "import pandas as pd"
     ],
     "language": "python",
     "metadata": {},
     "outputs": [],
     "prompt_number": 14
    },
    {
     "cell_type": "code",
     "collapsed": false,
     "input": [
      "s = pd.Series(arange(10))\n",
      "s"
     ],
     "language": "python",
     "metadata": {},
     "outputs": [
      {
       "metadata": {},
       "output_type": "pyout",
       "prompt_number": 15,
       "text": [
        "0    0\n",
        "1    1\n",
        "2    2\n",
        "3    3\n",
        "4    4\n",
        "5    5\n",
        "6    6\n",
        "7    7\n",
        "8    8\n",
        "9    9\n",
        "dtype: int64"
       ]
      }
     ],
     "prompt_number": 15
    },
    {
     "cell_type": "code",
     "collapsed": false,
     "input": [
      "s.sum()"
     ],
     "language": "python",
     "metadata": {},
     "outputs": [
      {
       "metadata": {},
       "output_type": "pyout",
       "prompt_number": 16,
       "text": [
        "45"
       ]
      }
     ],
     "prompt_number": 16
    },
    {
     "cell_type": "code",
     "collapsed": false,
     "input": [
      "s[3] = NaN\n",
      "s"
     ],
     "language": "python",
     "metadata": {},
     "outputs": [
      {
       "metadata": {},
       "output_type": "pyout",
       "prompt_number": 18,
       "text": [
        "0     0\n",
        "1     1\n",
        "2     2\n",
        "3   NaN\n",
        "4     4\n",
        "5     5\n",
        "6     6\n",
        "7     7\n",
        "8     8\n",
        "9     9\n",
        "dtype: float64"
       ]
      }
     ],
     "prompt_number": 18
    },
    {
     "cell_type": "code",
     "collapsed": false,
     "input": [
      "#pandas handles nonhomogeneous data, including NaN, gracefully\n",
      "s.sum()"
     ],
     "language": "python",
     "metadata": {},
     "outputs": [
      {
       "metadata": {},
       "output_type": "pyout",
       "prompt_number": 19,
       "text": [
        "42.0"
       ]
      }
     ],
     "prompt_number": 19
    },
    {
     "cell_type": "code",
     "collapsed": false,
     "input": [
      "df = pd.DataFrame(random.randn(6,4))\n",
      "df"
     ],
     "language": "python",
     "metadata": {},
     "outputs": [
      {
       "html": [
        "<div style=\"max-height:1000px;max-width:1500px;overflow:auto;\">\n",
        "<table border=\"1\" class=\"dataframe\">\n",
        "  <thead>\n",
        "    <tr style=\"text-align: right;\">\n",
        "      <th></th>\n",
        "      <th>0</th>\n",
        "      <th>1</th>\n",
        "      <th>2</th>\n",
        "      <th>3</th>\n",
        "    </tr>\n",
        "  </thead>\n",
        "  <tbody>\n",
        "    <tr>\n",
        "      <th>0</th>\n",
        "      <td> 0.126954</td>\n",
        "      <td> 0.582308</td>\n",
        "      <td>-1.166347</td>\n",
        "      <td>-1.771709</td>\n",
        "    </tr>\n",
        "    <tr>\n",
        "      <th>1</th>\n",
        "      <td> 0.014064</td>\n",
        "      <td>-1.929128</td>\n",
        "      <td>-0.761274</td>\n",
        "      <td>-0.901286</td>\n",
        "    </tr>\n",
        "    <tr>\n",
        "      <th>2</th>\n",
        "      <td> 1.137795</td>\n",
        "      <td> 0.388757</td>\n",
        "      <td> 1.091769</td>\n",
        "      <td> 0.714808</td>\n",
        "    </tr>\n",
        "    <tr>\n",
        "      <th>3</th>\n",
        "      <td>-1.223596</td>\n",
        "      <td> 0.852206</td>\n",
        "      <td> 0.971789</td>\n",
        "      <td>-0.328291</td>\n",
        "    </tr>\n",
        "    <tr>\n",
        "      <th>4</th>\n",
        "      <td> 0.724614</td>\n",
        "      <td>-0.777066</td>\n",
        "      <td>-0.447404</td>\n",
        "      <td> 0.526020</td>\n",
        "    </tr>\n",
        "    <tr>\n",
        "      <th>5</th>\n",
        "      <td> 0.295590</td>\n",
        "      <td> 0.857451</td>\n",
        "      <td> 0.514676</td>\n",
        "      <td>-0.225733</td>\n",
        "    </tr>\n",
        "  </tbody>\n",
        "</table>\n",
        "</div>"
       ],
       "metadata": {},
       "output_type": "pyout",
       "prompt_number": 22,
       "text": [
        "          0         1         2         3\n",
        "0  0.126954  0.582308 -1.166347 -1.771709\n",
        "1  0.014064 -1.929128 -0.761274 -0.901286\n",
        "2  1.137795  0.388757  1.091769  0.714808\n",
        "3 -1.223596  0.852206  0.971789 -0.328291\n",
        "4  0.724614 -0.777066 -0.447404  0.526020\n",
        "5  0.295590  0.857451  0.514676 -0.225733"
       ]
      }
     ],
     "prompt_number": 22
    },
    {
     "cell_type": "code",
     "collapsed": false,
     "input": [
      "df.head(3)"
     ],
     "language": "python",
     "metadata": {},
     "outputs": [
      {
       "html": [
        "<div style=\"max-height:1000px;max-width:1500px;overflow:auto;\">\n",
        "<table border=\"1\" class=\"dataframe\">\n",
        "  <thead>\n",
        "    <tr style=\"text-align: right;\">\n",
        "      <th></th>\n",
        "      <th>0</th>\n",
        "      <th>1</th>\n",
        "      <th>2</th>\n",
        "      <th>3</th>\n",
        "    </tr>\n",
        "  </thead>\n",
        "  <tbody>\n",
        "    <tr>\n",
        "      <th>0</th>\n",
        "      <td> 0.126954</td>\n",
        "      <td> 0.582308</td>\n",
        "      <td>-1.166347</td>\n",
        "      <td>-1.771709</td>\n",
        "    </tr>\n",
        "    <tr>\n",
        "      <th>1</th>\n",
        "      <td> 0.014064</td>\n",
        "      <td>-1.929128</td>\n",
        "      <td>-0.761274</td>\n",
        "      <td>-0.901286</td>\n",
        "    </tr>\n",
        "    <tr>\n",
        "      <th>2</th>\n",
        "      <td> 1.137795</td>\n",
        "      <td> 0.388757</td>\n",
        "      <td> 1.091769</td>\n",
        "      <td> 0.714808</td>\n",
        "    </tr>\n",
        "  </tbody>\n",
        "</table>\n",
        "</div>"
       ],
       "metadata": {},
       "output_type": "pyout",
       "prompt_number": 23,
       "text": [
        "          0         1         2         3\n",
        "0  0.126954  0.582308 -1.166347 -1.771709\n",
        "1  0.014064 -1.929128 -0.761274 -0.901286\n",
        "2  1.137795  0.388757  1.091769  0.714808"
       ]
      }
     ],
     "prompt_number": 23
    },
    {
     "cell_type": "code",
     "collapsed": false,
     "input": [
      "df.tail(3)"
     ],
     "language": "python",
     "metadata": {},
     "outputs": [
      {
       "html": [
        "<div style=\"max-height:1000px;max-width:1500px;overflow:auto;\">\n",
        "<table border=\"1\" class=\"dataframe\">\n",
        "  <thead>\n",
        "    <tr style=\"text-align: right;\">\n",
        "      <th></th>\n",
        "      <th>0</th>\n",
        "      <th>1</th>\n",
        "      <th>2</th>\n",
        "      <th>3</th>\n",
        "    </tr>\n",
        "  </thead>\n",
        "  <tbody>\n",
        "    <tr>\n",
        "      <th>3</th>\n",
        "      <td>-1.223596</td>\n",
        "      <td> 0.852206</td>\n",
        "      <td> 0.971789</td>\n",
        "      <td>-0.328291</td>\n",
        "    </tr>\n",
        "    <tr>\n",
        "      <th>4</th>\n",
        "      <td> 0.724614</td>\n",
        "      <td>-0.777066</td>\n",
        "      <td>-0.447404</td>\n",
        "      <td> 0.526020</td>\n",
        "    </tr>\n",
        "    <tr>\n",
        "      <th>5</th>\n",
        "      <td> 0.295590</td>\n",
        "      <td> 0.857451</td>\n",
        "      <td> 0.514676</td>\n",
        "      <td>-0.225733</td>\n",
        "    </tr>\n",
        "  </tbody>\n",
        "</table>\n",
        "</div>"
       ],
       "metadata": {},
       "output_type": "pyout",
       "prompt_number": 25,
       "text": [
        "          0         1         2         3\n",
        "3 -1.223596  0.852206  0.971789 -0.328291\n",
        "4  0.724614 -0.777066 -0.447404  0.526020\n",
        "5  0.295590  0.857451  0.514676 -0.225733"
       ]
      }
     ],
     "prompt_number": 25
    },
    {
     "cell_type": "code",
     "collapsed": false,
     "input": [
      "df.describe()"
     ],
     "language": "python",
     "metadata": {},
     "outputs": [
      {
       "html": [
        "<div style=\"max-height:1000px;max-width:1500px;overflow:auto;\">\n",
        "<table border=\"1\" class=\"dataframe\">\n",
        "  <thead>\n",
        "    <tr style=\"text-align: right;\">\n",
        "      <th></th>\n",
        "      <th>0</th>\n",
        "      <th>1</th>\n",
        "      <th>2</th>\n",
        "      <th>3</th>\n",
        "    </tr>\n",
        "  </thead>\n",
        "  <tbody>\n",
        "    <tr>\n",
        "      <th>count</th>\n",
        "      <td> 6.000000</td>\n",
        "      <td> 6.000000</td>\n",
        "      <td> 6.000000</td>\n",
        "      <td> 6.000000</td>\n",
        "    </tr>\n",
        "    <tr>\n",
        "      <th>mean</th>\n",
        "      <td> 0.179237</td>\n",
        "      <td>-0.004245</td>\n",
        "      <td> 0.033868</td>\n",
        "      <td>-0.331032</td>\n",
        "    </tr>\n",
        "    <tr>\n",
        "      <th>std</th>\n",
        "      <td> 0.803463</td>\n",
        "      <td> 1.120442</td>\n",
        "      <td> 0.952304</td>\n",
        "      <td> 0.920886</td>\n",
        "    </tr>\n",
        "    <tr>\n",
        "      <th>min</th>\n",
        "      <td>-1.223596</td>\n",
        "      <td>-1.929128</td>\n",
        "      <td>-1.166347</td>\n",
        "      <td>-1.771709</td>\n",
        "    </tr>\n",
        "    <tr>\n",
        "      <th>25%</th>\n",
        "      <td> 0.042286</td>\n",
        "      <td>-0.485610</td>\n",
        "      <td>-0.682807</td>\n",
        "      <td>-0.758037</td>\n",
        "    </tr>\n",
        "    <tr>\n",
        "      <th>50%</th>\n",
        "      <td> 0.211272</td>\n",
        "      <td> 0.485532</td>\n",
        "      <td> 0.033636</td>\n",
        "      <td>-0.277012</td>\n",
        "    </tr>\n",
        "    <tr>\n",
        "      <th>75%</th>\n",
        "      <td> 0.617358</td>\n",
        "      <td> 0.784731</td>\n",
        "      <td> 0.857511</td>\n",
        "      <td> 0.338082</td>\n",
        "    </tr>\n",
        "    <tr>\n",
        "      <th>max</th>\n",
        "      <td> 1.137795</td>\n",
        "      <td> 0.857451</td>\n",
        "      <td> 1.091769</td>\n",
        "      <td> 0.714808</td>\n",
        "    </tr>\n",
        "  </tbody>\n",
        "</table>\n",
        "</div>"
       ],
       "metadata": {},
       "output_type": "pyout",
       "prompt_number": 24,
       "text": [
        "              0         1         2         3\n",
        "count  6.000000  6.000000  6.000000  6.000000\n",
        "mean   0.179237 -0.004245  0.033868 -0.331032\n",
        "std    0.803463  1.120442  0.952304  0.920886\n",
        "min   -1.223596 -1.929128 -1.166347 -1.771709\n",
        "25%    0.042286 -0.485610 -0.682807 -0.758037\n",
        "50%    0.211272  0.485532  0.033636 -0.277012\n",
        "75%    0.617358  0.784731  0.857511  0.338082\n",
        "max    1.137795  0.857451  1.091769  0.714808"
       ]
      }
     ],
     "prompt_number": 24
    },
    {
     "cell_type": "code",
     "collapsed": false,
     "input": [
      "df.T"
     ],
     "language": "python",
     "metadata": {},
     "outputs": [
      {
       "html": [
        "<div style=\"max-height:1000px;max-width:1500px;overflow:auto;\">\n",
        "<table border=\"1\" class=\"dataframe\">\n",
        "  <thead>\n",
        "    <tr style=\"text-align: right;\">\n",
        "      <th></th>\n",
        "      <th>0</th>\n",
        "      <th>1</th>\n",
        "      <th>2</th>\n",
        "      <th>3</th>\n",
        "      <th>4</th>\n",
        "      <th>5</th>\n",
        "    </tr>\n",
        "  </thead>\n",
        "  <tbody>\n",
        "    <tr>\n",
        "      <th>0</th>\n",
        "      <td> 0.126954</td>\n",
        "      <td> 0.014064</td>\n",
        "      <td> 1.137795</td>\n",
        "      <td>-1.223596</td>\n",
        "      <td> 0.724614</td>\n",
        "      <td> 0.295590</td>\n",
        "    </tr>\n",
        "    <tr>\n",
        "      <th>1</th>\n",
        "      <td> 0.582308</td>\n",
        "      <td>-1.929128</td>\n",
        "      <td> 0.388757</td>\n",
        "      <td> 0.852206</td>\n",
        "      <td>-0.777066</td>\n",
        "      <td> 0.857451</td>\n",
        "    </tr>\n",
        "    <tr>\n",
        "      <th>2</th>\n",
        "      <td>-1.166347</td>\n",
        "      <td>-0.761274</td>\n",
        "      <td> 1.091769</td>\n",
        "      <td> 0.971789</td>\n",
        "      <td>-0.447404</td>\n",
        "      <td> 0.514676</td>\n",
        "    </tr>\n",
        "    <tr>\n",
        "      <th>3</th>\n",
        "      <td>-1.771709</td>\n",
        "      <td>-0.901286</td>\n",
        "      <td> 0.714808</td>\n",
        "      <td>-0.328291</td>\n",
        "      <td> 0.526020</td>\n",
        "      <td>-0.225733</td>\n",
        "    </tr>\n",
        "  </tbody>\n",
        "</table>\n",
        "</div>"
       ],
       "metadata": {},
       "output_type": "pyout",
       "prompt_number": 26,
       "text": [
        "          0         1         2         3         4         5\n",
        "0  0.126954  0.014064  1.137795 -1.223596  0.724614  0.295590\n",
        "1  0.582308 -1.929128  0.388757  0.852206 -0.777066  0.857451\n",
        "2 -1.166347 -0.761274  1.091769  0.971789 -0.447404  0.514676\n",
        "3 -1.771709 -0.901286  0.714808 -0.328291  0.526020 -0.225733"
       ]
      }
     ],
     "prompt_number": 26
    },
    {
     "cell_type": "code",
     "collapsed": false,
     "input": [
      "df.sort(columns=2)"
     ],
     "language": "python",
     "metadata": {},
     "outputs": [
      {
       "html": [
        "<div style=\"max-height:1000px;max-width:1500px;overflow:auto;\">\n",
        "<table border=\"1\" class=\"dataframe\">\n",
        "  <thead>\n",
        "    <tr style=\"text-align: right;\">\n",
        "      <th></th>\n",
        "      <th>0</th>\n",
        "      <th>1</th>\n",
        "      <th>2</th>\n",
        "      <th>3</th>\n",
        "    </tr>\n",
        "  </thead>\n",
        "  <tbody>\n",
        "    <tr>\n",
        "      <th>0</th>\n",
        "      <td> 0.126954</td>\n",
        "      <td> 0.582308</td>\n",
        "      <td>-1.166347</td>\n",
        "      <td>-1.771709</td>\n",
        "    </tr>\n",
        "    <tr>\n",
        "      <th>1</th>\n",
        "      <td> 0.014064</td>\n",
        "      <td>-1.929128</td>\n",
        "      <td>-0.761274</td>\n",
        "      <td>-0.901286</td>\n",
        "    </tr>\n",
        "    <tr>\n",
        "      <th>4</th>\n",
        "      <td> 0.724614</td>\n",
        "      <td>-0.777066</td>\n",
        "      <td>-0.447404</td>\n",
        "      <td> 0.526020</td>\n",
        "    </tr>\n",
        "    <tr>\n",
        "      <th>5</th>\n",
        "      <td> 0.295590</td>\n",
        "      <td> 0.857451</td>\n",
        "      <td> 0.514676</td>\n",
        "      <td>-0.225733</td>\n",
        "    </tr>\n",
        "    <tr>\n",
        "      <th>3</th>\n",
        "      <td>-1.223596</td>\n",
        "      <td> 0.852206</td>\n",
        "      <td> 0.971789</td>\n",
        "      <td>-0.328291</td>\n",
        "    </tr>\n",
        "    <tr>\n",
        "      <th>2</th>\n",
        "      <td> 1.137795</td>\n",
        "      <td> 0.388757</td>\n",
        "      <td> 1.091769</td>\n",
        "      <td> 0.714808</td>\n",
        "    </tr>\n",
        "  </tbody>\n",
        "</table>\n",
        "</div>"
       ],
       "metadata": {},
       "output_type": "pyout",
       "prompt_number": 29,
       "text": [
        "          0         1         2         3\n",
        "0  0.126954  0.582308 -1.166347 -1.771709\n",
        "1  0.014064 -1.929128 -0.761274 -0.901286\n",
        "4  0.724614 -0.777066 -0.447404  0.526020\n",
        "5  0.295590  0.857451  0.514676 -0.225733\n",
        "3 -1.223596  0.852206  0.971789 -0.328291\n",
        "2  1.137795  0.388757  1.091769  0.714808"
       ]
      }
     ],
     "prompt_number": 29
    },
    {
     "cell_type": "code",
     "collapsed": false,
     "input": [
      "df[df[1]>0]"
     ],
     "language": "python",
     "metadata": {},
     "outputs": [
      {
       "html": [
        "<div style=\"max-height:1000px;max-width:1500px;overflow:auto;\">\n",
        "<table border=\"1\" class=\"dataframe\">\n",
        "  <thead>\n",
        "    <tr style=\"text-align: right;\">\n",
        "      <th></th>\n",
        "      <th>0</th>\n",
        "      <th>1</th>\n",
        "      <th>2</th>\n",
        "      <th>3</th>\n",
        "    </tr>\n",
        "  </thead>\n",
        "  <tbody>\n",
        "    <tr>\n",
        "      <th>0</th>\n",
        "      <td> 0.126954</td>\n",
        "      <td> 0.582308</td>\n",
        "      <td>-1.166347</td>\n",
        "      <td>-1.771709</td>\n",
        "    </tr>\n",
        "    <tr>\n",
        "      <th>2</th>\n",
        "      <td> 1.137795</td>\n",
        "      <td> 0.388757</td>\n",
        "      <td> 1.091769</td>\n",
        "      <td> 0.714808</td>\n",
        "    </tr>\n",
        "    <tr>\n",
        "      <th>3</th>\n",
        "      <td>-1.223596</td>\n",
        "      <td> 0.852206</td>\n",
        "      <td> 0.971789</td>\n",
        "      <td>-0.328291</td>\n",
        "    </tr>\n",
        "    <tr>\n",
        "      <th>5</th>\n",
        "      <td> 0.295590</td>\n",
        "      <td> 0.857451</td>\n",
        "      <td> 0.514676</td>\n",
        "      <td>-0.225733</td>\n",
        "    </tr>\n",
        "  </tbody>\n",
        "</table>\n",
        "</div>"
       ],
       "metadata": {},
       "output_type": "pyout",
       "prompt_number": 30,
       "text": [
        "          0         1         2         3\n",
        "0  0.126954  0.582308 -1.166347 -1.771709\n",
        "2  1.137795  0.388757  1.091769  0.714808\n",
        "3 -1.223596  0.852206  0.971789 -0.328291\n",
        "5  0.295590  0.857451  0.514676 -0.225733"
       ]
      }
     ],
     "prompt_number": 30
    },
    {
     "cell_type": "code",
     "collapsed": false,
     "input": [
      "df2 = df.copy();\n",
      "df2[2][df2[2] < 0] = NaN\n",
      "df2"
     ],
     "language": "python",
     "metadata": {},
     "outputs": [
      {
       "html": [
        "<div style=\"max-height:1000px;max-width:1500px;overflow:auto;\">\n",
        "<table border=\"1\" class=\"dataframe\">\n",
        "  <thead>\n",
        "    <tr style=\"text-align: right;\">\n",
        "      <th></th>\n",
        "      <th>0</th>\n",
        "      <th>1</th>\n",
        "      <th>2</th>\n",
        "      <th>3</th>\n",
        "    </tr>\n",
        "  </thead>\n",
        "  <tbody>\n",
        "    <tr>\n",
        "      <th>0</th>\n",
        "      <td> 0.126954</td>\n",
        "      <td> 0.582308</td>\n",
        "      <td>      NaN</td>\n",
        "      <td>-1.771709</td>\n",
        "    </tr>\n",
        "    <tr>\n",
        "      <th>1</th>\n",
        "      <td> 0.014064</td>\n",
        "      <td>-1.929128</td>\n",
        "      <td>      NaN</td>\n",
        "      <td>-0.901286</td>\n",
        "    </tr>\n",
        "    <tr>\n",
        "      <th>2</th>\n",
        "      <td> 1.137795</td>\n",
        "      <td> 0.388757</td>\n",
        "      <td> 1.091769</td>\n",
        "      <td> 0.714808</td>\n",
        "    </tr>\n",
        "    <tr>\n",
        "      <th>3</th>\n",
        "      <td>-1.223596</td>\n",
        "      <td> 0.852206</td>\n",
        "      <td> 0.971789</td>\n",
        "      <td>-0.328291</td>\n",
        "    </tr>\n",
        "    <tr>\n",
        "      <th>4</th>\n",
        "      <td> 0.724614</td>\n",
        "      <td>-0.777066</td>\n",
        "      <td>      NaN</td>\n",
        "      <td> 0.526020</td>\n",
        "    </tr>\n",
        "    <tr>\n",
        "      <th>5</th>\n",
        "      <td> 0.295590</td>\n",
        "      <td> 0.857451</td>\n",
        "      <td> 0.514676</td>\n",
        "      <td>-0.225733</td>\n",
        "    </tr>\n",
        "  </tbody>\n",
        "</table>\n",
        "</div>"
       ],
       "metadata": {},
       "output_type": "pyout",
       "prompt_number": 68,
       "text": [
        "          0         1         2         3\n",
        "0  0.126954  0.582308       NaN -1.771709\n",
        "1  0.014064 -1.929128       NaN -0.901286\n",
        "2  1.137795  0.388757  1.091769  0.714808\n",
        "3 -1.223596  0.852206  0.971789 -0.328291\n",
        "4  0.724614 -0.777066       NaN  0.526020\n",
        "5  0.295590  0.857451  0.514676 -0.225733"
       ]
      }
     ],
     "prompt_number": 68
    },
    {
     "cell_type": "code",
     "collapsed": false,
     "input": [
      "df2.dropna()"
     ],
     "language": "python",
     "metadata": {},
     "outputs": [
      {
       "html": [
        "<div style=\"max-height:1000px;max-width:1500px;overflow:auto;\">\n",
        "<table border=\"1\" class=\"dataframe\">\n",
        "  <thead>\n",
        "    <tr style=\"text-align: right;\">\n",
        "      <th></th>\n",
        "      <th>0</th>\n",
        "      <th>1</th>\n",
        "      <th>2</th>\n",
        "      <th>3</th>\n",
        "    </tr>\n",
        "  </thead>\n",
        "  <tbody>\n",
        "    <tr>\n",
        "      <th>2</th>\n",
        "      <td> 1.137795</td>\n",
        "      <td> 0.388757</td>\n",
        "      <td> 1.091769</td>\n",
        "      <td> 0.714808</td>\n",
        "    </tr>\n",
        "    <tr>\n",
        "      <th>3</th>\n",
        "      <td>-1.223596</td>\n",
        "      <td> 0.852206</td>\n",
        "      <td> 0.971789</td>\n",
        "      <td>-0.328291</td>\n",
        "    </tr>\n",
        "    <tr>\n",
        "      <th>5</th>\n",
        "      <td> 0.295590</td>\n",
        "      <td> 0.857451</td>\n",
        "      <td> 0.514676</td>\n",
        "      <td>-0.225733</td>\n",
        "    </tr>\n",
        "  </tbody>\n",
        "</table>\n",
        "</div>"
       ],
       "metadata": {},
       "output_type": "pyout",
       "prompt_number": 69,
       "text": [
        "          0         1         2         3\n",
        "2  1.137795  0.388757  1.091769  0.714808\n",
        "3 -1.223596  0.852206  0.971789 -0.328291\n",
        "5  0.295590  0.857451  0.514676 -0.225733"
       ]
      }
     ],
     "prompt_number": 69
    },
    {
     "cell_type": "code",
     "collapsed": false,
     "input": [
      "df3 = df.copy()\n",
      "df3_tail = df3.tail(3)\n",
      "df3_tail.index = range(6,9)\n",
      "df3 = df3.append(df3_tail)\n",
      "df3"
     ],
     "language": "python",
     "metadata": {},
     "outputs": [
      {
       "html": [
        "<div style=\"max-height:1000px;max-width:1500px;overflow:auto;\">\n",
        "<table border=\"1\" class=\"dataframe\">\n",
        "  <thead>\n",
        "    <tr style=\"text-align: right;\">\n",
        "      <th></th>\n",
        "      <th>0</th>\n",
        "      <th>1</th>\n",
        "      <th>2</th>\n",
        "      <th>3</th>\n",
        "    </tr>\n",
        "  </thead>\n",
        "  <tbody>\n",
        "    <tr>\n",
        "      <th>0</th>\n",
        "      <td> 0.126954</td>\n",
        "      <td> 0.582308</td>\n",
        "      <td>-1.166347</td>\n",
        "      <td>-1.771709</td>\n",
        "    </tr>\n",
        "    <tr>\n",
        "      <th>1</th>\n",
        "      <td> 0.014064</td>\n",
        "      <td>-1.929128</td>\n",
        "      <td>-0.761274</td>\n",
        "      <td>-0.901286</td>\n",
        "    </tr>\n",
        "    <tr>\n",
        "      <th>2</th>\n",
        "      <td> 1.137795</td>\n",
        "      <td> 0.388757</td>\n",
        "      <td> 1.091769</td>\n",
        "      <td> 0.714808</td>\n",
        "    </tr>\n",
        "    <tr>\n",
        "      <th>3</th>\n",
        "      <td>-1.223596</td>\n",
        "      <td> 0.852206</td>\n",
        "      <td> 0.971789</td>\n",
        "      <td>-0.328291</td>\n",
        "    </tr>\n",
        "    <tr>\n",
        "      <th>4</th>\n",
        "      <td> 0.724614</td>\n",
        "      <td>-0.777066</td>\n",
        "      <td>-0.447404</td>\n",
        "      <td> 0.526020</td>\n",
        "    </tr>\n",
        "    <tr>\n",
        "      <th>5</th>\n",
        "      <td> 0.295590</td>\n",
        "      <td> 0.857451</td>\n",
        "      <td> 0.514676</td>\n",
        "      <td>-0.225733</td>\n",
        "    </tr>\n",
        "    <tr>\n",
        "      <th>6</th>\n",
        "      <td>-1.223596</td>\n",
        "      <td> 0.852206</td>\n",
        "      <td> 0.971789</td>\n",
        "      <td>-0.328291</td>\n",
        "    </tr>\n",
        "    <tr>\n",
        "      <th>7</th>\n",
        "      <td> 0.724614</td>\n",
        "      <td>-0.777066</td>\n",
        "      <td>-0.447404</td>\n",
        "      <td> 0.526020</td>\n",
        "    </tr>\n",
        "    <tr>\n",
        "      <th>8</th>\n",
        "      <td> 0.295590</td>\n",
        "      <td> 0.857451</td>\n",
        "      <td> 0.514676</td>\n",
        "      <td>-0.225733</td>\n",
        "    </tr>\n",
        "  </tbody>\n",
        "</table>\n",
        "</div>"
       ],
       "metadata": {},
       "output_type": "pyout",
       "prompt_number": 118,
       "text": [
        "          0         1         2         3\n",
        "0  0.126954  0.582308 -1.166347 -1.771709\n",
        "1  0.014064 -1.929128 -0.761274 -0.901286\n",
        "2  1.137795  0.388757  1.091769  0.714808\n",
        "3 -1.223596  0.852206  0.971789 -0.328291\n",
        "4  0.724614 -0.777066 -0.447404  0.526020\n",
        "5  0.295590  0.857451  0.514676 -0.225733\n",
        "6 -1.223596  0.852206  0.971789 -0.328291\n",
        "7  0.724614 -0.777066 -0.447404  0.526020\n",
        "8  0.295590  0.857451  0.514676 -0.225733"
       ]
      }
     ],
     "prompt_number": 118
    },
    {
     "cell_type": "code",
     "collapsed": false,
     "input": [
      "df3[0].value_counts()"
     ],
     "language": "python",
     "metadata": {},
     "outputs": [
      {
       "metadata": {},
       "output_type": "pyout",
       "prompt_number": 119,
       "text": [
        " 0.295590    2\n",
        " 0.724614    2\n",
        "-1.223596    2\n",
        " 1.137795    1\n",
        " 0.014064    1\n",
        " 0.126954    1\n",
        "dtype: int64"
       ]
      }
     ],
     "prompt_number": 119
    },
    {
     "cell_type": "code",
     "collapsed": false,
     "input": [
      "df4 = pd.DataFrame(random.randn(5,5))\n",
      "df4[0][df4[0] > 0] = \"Type_A\"\n",
      "df4[0][df4[0] < 0] = \"Type_B\"\n",
      "df4"
     ],
     "language": "python",
     "metadata": {},
     "outputs": [
      {
       "html": [
        "<div style=\"max-height:1000px;max-width:1500px;overflow:auto;\">\n",
        "<table border=\"1\" class=\"dataframe\">\n",
        "  <thead>\n",
        "    <tr style=\"text-align: right;\">\n",
        "      <th></th>\n",
        "      <th>0</th>\n",
        "      <th>1</th>\n",
        "      <th>2</th>\n",
        "      <th>3</th>\n",
        "      <th>4</th>\n",
        "    </tr>\n",
        "  </thead>\n",
        "  <tbody>\n",
        "    <tr>\n",
        "      <th>0</th>\n",
        "      <td> Type_A</td>\n",
        "      <td> 1.075511</td>\n",
        "      <td>-1.434986</td>\n",
        "      <td>-0.447185</td>\n",
        "      <td> 0.522794</td>\n",
        "    </tr>\n",
        "    <tr>\n",
        "      <th>1</th>\n",
        "      <td> Type_B</td>\n",
        "      <td> 0.229503</td>\n",
        "      <td> 0.389394</td>\n",
        "      <td>-0.639221</td>\n",
        "      <td>-0.041969</td>\n",
        "    </tr>\n",
        "    <tr>\n",
        "      <th>2</th>\n",
        "      <td> Type_A</td>\n",
        "      <td>-1.691164</td>\n",
        "      <td> 0.441149</td>\n",
        "      <td>-0.998600</td>\n",
        "      <td>-1.526053</td>\n",
        "    </tr>\n",
        "    <tr>\n",
        "      <th>3</th>\n",
        "      <td> Type_B</td>\n",
        "      <td>-0.672662</td>\n",
        "      <td> 1.141179</td>\n",
        "      <td>-0.350784</td>\n",
        "      <td>-1.781382</td>\n",
        "    </tr>\n",
        "    <tr>\n",
        "      <th>4</th>\n",
        "      <td> Type_A</td>\n",
        "      <td>-0.259114</td>\n",
        "      <td>-1.249200</td>\n",
        "      <td>-1.086054</td>\n",
        "      <td> 0.282444</td>\n",
        "    </tr>\n",
        "  </tbody>\n",
        "</table>\n",
        "</div>"
       ],
       "metadata": {},
       "output_type": "pyout",
       "prompt_number": 144,
       "text": [
        "        0         1         2         3         4\n",
        "0  Type_A  1.075511 -1.434986 -0.447185  0.522794\n",
        "1  Type_B  0.229503  0.389394 -0.639221 -0.041969\n",
        "2  Type_A -1.691164  0.441149 -0.998600 -1.526053\n",
        "3  Type_B -0.672662  1.141179 -0.350784 -1.781382\n",
        "4  Type_A -0.259114 -1.249200 -1.086054  0.282444"
       ]
      }
     ],
     "prompt_number": 144
    },
    {
     "cell_type": "code",
     "collapsed": false,
     "input": [
      "df4.groupby(0).sum()"
     ],
     "language": "python",
     "metadata": {},
     "outputs": [
      {
       "html": [
        "<div style=\"max-height:1000px;max-width:1500px;overflow:auto;\">\n",
        "<table border=\"1\" class=\"dataframe\">\n",
        "  <thead>\n",
        "    <tr style=\"text-align: right;\">\n",
        "      <th></th>\n",
        "      <th>1</th>\n",
        "      <th>2</th>\n",
        "      <th>3</th>\n",
        "      <th>4</th>\n",
        "    </tr>\n",
        "    <tr>\n",
        "      <th>0</th>\n",
        "      <th></th>\n",
        "      <th></th>\n",
        "      <th></th>\n",
        "      <th></th>\n",
        "    </tr>\n",
        "  </thead>\n",
        "  <tbody>\n",
        "    <tr>\n",
        "      <th>Type_A</th>\n",
        "      <td>-0.874767</td>\n",
        "      <td>-2.243036</td>\n",
        "      <td>-2.531840</td>\n",
        "      <td>-0.720815</td>\n",
        "    </tr>\n",
        "    <tr>\n",
        "      <th>Type_B</th>\n",
        "      <td>-0.443159</td>\n",
        "      <td> 1.530574</td>\n",
        "      <td>-0.990005</td>\n",
        "      <td>-1.823351</td>\n",
        "    </tr>\n",
        "  </tbody>\n",
        "</table>\n",
        "</div>"
       ],
       "metadata": {},
       "output_type": "pyout",
       "prompt_number": 151,
       "text": [
        "               1         2         3         4\n",
        "0                                             \n",
        "Type_A -0.874767 -2.243036 -2.531840 -0.720815\n",
        "Type_B -0.443159  1.530574 -0.990005 -1.823351"
       ]
      }
     ],
     "prompt_number": 151
    },
    {
     "cell_type": "code",
     "collapsed": false,
     "input": [
      "# See this pandas tutorial for more:\n",
      "# http://pandas.pydata.org/pandas-docs/stable/10min.html"
     ],
     "language": "python",
     "metadata": {},
     "outputs": [],
     "prompt_number": 137
    }
   ],
   "metadata": {}
  }
 ]
}