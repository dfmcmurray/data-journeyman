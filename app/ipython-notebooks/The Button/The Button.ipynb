{
 "metadata": {
  "name": "",
  "signature": "sha256:3c2b9a234c15d94950dc515bf790669395505dc9ddad450d079527bf3e04a0bb"
 },
 "nbformat": 3,
 "nbformat_minor": 0,
 "worksheets": [
  {
   "cells": [
    {
     "cell_type": "code",
     "collapsed": false,
     "input": [
      "import scipy.stats"
     ],
     "language": "python",
     "metadata": {},
     "outputs": []
    },
    {
     "cell_type": "code",
     "collapsed": false,
     "input": [
      "f = open('thebutton_rawdata_15-4-26.txt')\n",
      "data = map(lambda x: [x.split('\\t')[0], int(x.replace('\\n', '').split('\\t')[-1][:-2])], f.readlines())"
     ],
     "language": "python",
     "metadata": {},
     "outputs": []
    },
    {
     "cell_type": "code",
     "collapsed": false,
     "input": [
      "times = range(0, len(data), 200000)\n",
      "dates = ['-'.join(data[t][0].split('-')[1:3]) for t in times]\n",
      "\n",
      "title('Button Presses')\n",
      "plt.xticks(times, dates)\n",
      "plot([x[1] for x in data])\n",
      "axis([0,len(data),0,60])"
     ],
     "language": "python",
     "metadata": {},
     "outputs": []
    },
    {
     "cell_type": "code",
     "collapsed": false,
     "input": [
      "def dailyMins(data):\n",
      "    mins = {}\n",
      "    for datum in data:\n",
      "        date = int(datum[0].split('-')[2])\n",
      "        currentMin = mins.get(date, 61)\n",
      "        mins.__setitem__(date, min(currentMin, datum[1]))\n",
      "    return mins\n",
      "\n",
      "mins = dailyMins(data)"
     ],
     "language": "python",
     "metadata": {},
     "outputs": []
    },
    {
     "cell_type": "code",
     "collapsed": false,
     "input": [
      "apocalypseIndex = data.index(['2015-04-25-17-54-47', 59])\n",
      "print apocalypseIndex\n",
      "data[apocalypseIndex:apocalypseIndex+59]"
     ],
     "language": "python",
     "metadata": {},
     "outputs": []
    },
    {
     "cell_type": "code",
     "collapsed": false,
     "input": [
      "preApocalypseData = data[:apocalypseIndex]\n",
      "preApocalypseMins = dailyMins(preApocalypseData)"
     ],
     "language": "python",
     "metadata": {},
     "outputs": []
    },
    {
     "cell_type": "code",
     "collapsed": false,
     "input": [
      "plt.xticks(times, dates)\n",
      "title('Button Presses (Pre-Apocalypse)')\n",
      "plot([x[1] for x in preApocalypseData])\n",
      "axis([0,len(preApocalypseData),0,60])"
     ],
     "language": "python",
     "metadata": {},
     "outputs": []
    },
    {
     "cell_type": "code",
     "collapsed": false,
     "input": [
      "title('Daily Minima')\n",
      "plot(preApocalypseMins.keys(), preApocalypseMins.values())\n",
      "axis([0, 35, 0, 45])"
     ],
     "language": "python",
     "metadata": {},
     "outputs": []
    },
    {
     "cell_type": "code",
     "collapsed": false,
     "input": [
      "slope, intercept, r_value, p_value, std_err = scipy.stats.linregress(preApocalypseMins.keys(),preApocalypseMins.values())\n",
      "slope, intercept, r_value, p_value, std_err"
     ],
     "language": "python",
     "metadata": {},
     "outputs": []
    },
    {
     "cell_type": "code",
     "collapsed": false,
     "input": [
      "line_xs = [intercept + slope * x for x in range(35)]\n",
      "\n",
      "title('Linear Regression of Daily Minima')\n",
      "plot(preApocalypseMins.keys(), preApocalypseMins.values())\n",
      "plot(range(35), line_xs, '--', label=\"r^2 = \"+str(r_value**2))\n",
      "legend()"
     ],
     "language": "python",
     "metadata": {},
     "outputs": []
    },
    {
     "cell_type": "code",
     "collapsed": false,
     "input": [],
     "language": "python",
     "metadata": {},
     "outputs": []
    }
   ],
   "metadata": {}
  }
 ]
}