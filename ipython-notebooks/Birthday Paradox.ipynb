{
 "metadata": {
  "name": "",
  "signature": "sha256:aa8eeea793bf984c7580756874fe6ffaa0c48f140e4d4ff5544d4cca6cfe8d6c"
 },
 "nbformat": 3,
 "nbformat_minor": 0,
 "worksheets": [
  {
   "cells": [
    {
     "cell_type": "code",
     "collapsed": false,
     "input": [
      "#########################\n",
      "#  Guessing a Birthday  #\n",
      "#########################"
     ],
     "language": "python",
     "metadata": {},
     "outputs": []
    },
    {
     "cell_type": "code",
     "collapsed": false,
     "input": [
      "# Create a list of 23 birthdays\n",
      "\n",
      "from random import randrange\n",
      "birthdays = [randrange(365) for _ in range(23)]\n",
      "birthdays"
     ],
     "language": "python",
     "metadata": {},
     "outputs": [
      {
       "metadata": {},
       "output_type": "pyout",
       "prompt_number": 5,
       "text": [
        "[252,\n",
        " 255,\n",
        " 60,\n",
        " 172,\n",
        " 121,\n",
        " 285,\n",
        " 299,\n",
        " 201,\n",
        " 302,\n",
        " 285,\n",
        " 71,\n",
        " 314,\n",
        " 60,\n",
        " 204,\n",
        " 50,\n",
        " 116,\n",
        " 312,\n",
        " 95,\n",
        " 1,\n",
        " 276,\n",
        " 264,\n",
        " 31,\n",
        " 272]"
       ]
      }
     ],
     "prompt_number": 5
    },
    {
     "cell_type": "code",
     "collapsed": false,
     "input": [
      "# Generate a list of test sizes for our experiment. This will go on the x axis.\n",
      "\n",
      "test_sizes = range(10000, 500001, 20000)\n",
      "test_sizes"
     ],
     "language": "python",
     "metadata": {},
     "outputs": [
      {
       "metadata": {},
       "output_type": "pyout",
       "prompt_number": 4,
       "text": [
        "[10000,\n",
        " 30000,\n",
        " 50000,\n",
        " 70000,\n",
        " 90000,\n",
        " 110000,\n",
        " 130000,\n",
        " 150000,\n",
        " 170000,\n",
        " 190000,\n",
        " 210000,\n",
        " 230000,\n",
        " 250000,\n",
        " 270000,\n",
        " 290000,\n",
        " 310000,\n",
        " 330000,\n",
        " 350000,\n",
        " 370000,\n",
        " 390000,\n",
        " 410000,\n",
        " 430000,\n",
        " 450000,\n",
        " 470000,\n",
        " 490000]"
       ]
      }
     ],
     "prompt_number": 4
    },
    {
     "cell_type": "code",
     "collapsed": false,
     "input": [
      "# Experiment: What is the likelihood of guessing a birthday of the 23 we started with?\n",
      "# This may take a while to run. \n",
      "# Try decressing the numbers in and length of test_sizes to speed it up.\n",
      "\n",
      "probabilities = []\n",
      "for size in test_sizes:\n",
      "    guesses = [randrange(365) for _ in range(size)]\n",
      "    probabilities.append(100.0 * len(filter(lambda(x): x in birthdays, guesses)) / len(guesses))\n",
      "\n",
      "pyplot.title(\"Guessing a Birthday Matching One of 23 People\")\n",
      "pyplot.xlabel(\"Number of Guesses\")\n",
      "pyplot.ylabel(\"Percent Correct\")\n",
      "plot(test_sizes, probabilities)"
     ],
     "language": "python",
     "metadata": {},
     "outputs": [
      {
       "metadata": {},
       "output_type": "pyout",
       "prompt_number": 5,
       "text": [
        "[<matplotlib.lines.Line2D at 0x105a1d510>]"
       ]
      },
      {
       "metadata": {},
       "output_type": "display_data",
       "png": "[encoded data removed]",
       "text": [
        "<matplotlib.figure.Figure at 0x1059bac90>"
       ]
      }
     ],
     "prompt_number": 5
    },
    {
     "cell_type": "code",
     "collapsed": false,
     "input": [
      "# The probabilities of guess from a list of 23 and 22 distinct birthdays, repectively.\n",
      "\n",
      "(23.0 / 365, 22.0 / 365)"
     ],
     "language": "python",
     "metadata": {},
     "outputs": [
      {
       "metadata": {},
       "output_type": "pyout",
       "prompt_number": 104,
       "text": [
        "(0.06301369863013699, 0.06027397260273973)"
       ]
      }
     ],
     "prompt_number": 104
    },
    {
     "cell_type": "code",
     "collapsed": false,
     "input": [
      "# The probability of guessing from a list of 23 birthdays, some of which could be the same\n",
      "\n",
      "1 - (364./365) ** 23"
     ],
     "language": "python",
     "metadata": {},
     "outputs": [
      {
       "metadata": {},
       "output_type": "pyout",
       "prompt_number": 6,
       "text": [
        "0.06115058190745448"
       ]
      }
     ],
     "prompt_number": 6
    },
    {
     "cell_type": "code",
     "collapsed": false,
     "input": [
      "########################\n",
      "#  Pairs of Teammates  #\n",
      "########################"
     ],
     "language": "python",
     "metadata": {},
     "outputs": []
    },
    {
     "cell_type": "code",
     "collapsed": false,
     "input": [
      "# There's a chance that your previous experiment converged on a probability less than 0.063013.\n",
      "# This test will tell you if there is at least one duplicate in your birthday data.\n",
      "# If the test returns True, then your birthday pool was actually less than 23.\n",
      "\n",
      "def birthdayMatch(birthdays):\n",
      "    for i in range(len(birthdays)):\n",
      "        for j in range(i+1, len(birthdays)):\n",
      "            if (birthdays[i] == birthdays[j]):\n",
      "                return True\n",
      "    return False\n",
      "            \n",
      "birthdayMatch(birthdays)"
     ],
     "language": "python",
     "metadata": {},
     "outputs": [
      {
       "metadata": {},
       "output_type": "pyout",
       "prompt_number": 16,
       "text": [
        "True"
       ]
      }
     ],
     "prompt_number": 16
    },
    {
     "cell_type": "code",
     "collapsed": false,
     "input": [
      "# To find the odds of a match, set up a list of 200 groups with 23 birthdays in each group.\n",
      "\n",
      "birthday_groups = [[randrange(365) for _ in range(23)] for _ in range(200)]"
     ],
     "language": "python",
     "metadata": {},
     "outputs": [],
     "prompt_number": 115
    },
    {
     "cell_type": "code",
     "collapsed": false,
     "input": [
      "# Then see how many of them have a matching birthday.\n",
      "# This should be close to half of the total number of groups.\n",
      "\n",
      "groups_with_a_match = filter(birthdayMatch, birthday_groups)\n",
      "len(groups_with_a_match)"
     ],
     "language": "python",
     "metadata": {},
     "outputs": [
      {
       "metadata": {},
       "output_type": "pyout",
       "prompt_number": 117,
       "text": [
        "96"
       ]
      }
     ],
     "prompt_number": 117
    },
    {
     "cell_type": "code",
     "collapsed": false,
     "input": [
      "# Just like we did with the birthday guesses, set up a range of test sizes.\n",
      "# Again, this will be the x axis of our experiment.\n",
      "# Note: I commented out the test sizes I used for the blog post because it took a VERY long time.\n",
      "\n",
      "#group_test_sizes = range(5000, 200001, 5000)\n",
      "group_test_sizes = range(2000, 40001, 2000)\n",
      "group_test_sizes"
     ],
     "language": "python",
     "metadata": {},
     "outputs": [
      {
       "metadata": {},
       "output_type": "pyout",
       "prompt_number": 140,
       "text": [
        "[2000,\n",
        " 4000,\n",
        " 6000,\n",
        " 8000,\n",
        " 10000,\n",
        " 12000,\n",
        " 14000,\n",
        " 16000,\n",
        " 18000,\n",
        " 20000,\n",
        " 22000,\n",
        " 24000,\n",
        " 26000,\n",
        " 28000,\n",
        " 30000,\n",
        " 32000,\n",
        " 34000,\n",
        " 36000,\n",
        " 38000,\n",
        " 40000]"
       ]
      }
     ],
     "prompt_number": 140
    },
    {
     "cell_type": "code",
     "collapsed": false,
     "input": [
      "# Experiment: What is the likelihood of at least two people sharing a birthday from a group of 23?\n",
      "# Note: Even using the smaller test sizes, this will take a bit of time to run.\n",
      "\n",
      "probabilities = []\n",
      "for size in group_test_sizes:\n",
      "    birthday_groups = [[randrange(365) for _ in range(23)] for _ in range(size)]\n",
      "    probabilities.append(100.0 * len(filter(birthdayMatch, birthday_groups)) / len(birthday_groups))\n",
      "\n",
      "pyplot.title(\"Likelihood of At Least 2 People Sharing a Birthday in a Group of 23\")\n",
      "pyplot.xlabel(\"Sample Size\")\n",
      "pyplot.ylabel(\"Percentage of Matches\")\n",
      "plot(group_test_sizes, probabilities)"
     ],
     "language": "python",
     "metadata": {},
     "outputs": [
      {
       "metadata": {},
       "output_type": "pyout",
       "prompt_number": 141,
       "text": [
        "[<matplotlib.lines.Line2D at 0x10bce1290>]"
       ]
      },
      {
       "metadata": {},
       "output_type": "display_data",
       "png": "[encoded data removed]",
       "text": [
        "<matplotlib.figure.Figure at 0x10c320dd0>"
       ]
      }
     ],
     "prompt_number": 141
    },
    {
     "cell_type": "code",
     "collapsed": false,
     "input": [
      "#########################\n",
      "#  Beyond Soccer Teams  #\n",
      "#########################"
     ],
     "language": "python",
     "metadata": {},
     "outputs": []
    },
    {
     "cell_type": "code",
     "collapsed": false,
     "input": [
      "# Instead of looking only at group sizes of 23, let's look at a range of group sizes\n",
      "\n",
      "group_sizes = range(2, 101)"
     ],
     "language": "python",
     "metadata": {},
     "outputs": [],
     "prompt_number": 144
    },
    {
     "cell_type": "code",
     "collapsed": false,
     "input": [
      "# Experiment: What is the likelihood of two people sharing a birthday in groups of varying sizes?\n",
      "# Note: The experiment run for the blog with sample sizes of 50000 took an extremely long time to run.\n",
      "#       I recommend running an approximate experiment with sample sizes of 1000 instead.\n",
      "\n",
      "probabilities = []\n",
      "for size in group_sizes:\n",
      "#    birthday_groups = [[randrange(365) for _ in range(size)] for _ in range(50000)]\n",
      "    birthday_groups = [[randrange(365) for _ in range(size)] for _ in range(1000)]\n",
      "    probabilities.append(100.0 * len(filter(birthdayMatch, birthday_groups)) / len(birthday_groups))\n",
      "\n",
      "pyplot.title(\"Likelihood of At Least 2 People Sharing a Birthday in a Group\")\n",
      "pyplot.xlabel(\"Group Size\")\n",
      "pyplot.ylabel(\"Likelihood of a Match\")\n",
      "plot(group_sizes, probabilities)"
     ],
     "language": "python",
     "metadata": {},
     "outputs": [
      {
       "metadata": {},
       "output_type": "pyout",
       "prompt_number": 147,
       "text": [
        "[<matplotlib.lines.Line2D at 0x10af6e2d0>]"
       ]
      },
      {
       "metadata": {},
       "output_type": "display_data",
       "png": "[encoded data removed]",
       "text": [
        "<matplotlib.figure.Figure at 0x10aba5c50>"
       ]
      }
     ],
     "prompt_number": 147
    },
    {
     "cell_type": "code",
     "collapsed": false,
     "input": [
      "##########################\n",
      "#  N Matching Birthdays  #\n",
      "##########################"
     ],
     "language": "python",
     "metadata": {},
     "outputs": []
    },
    {
     "cell_type": "code",
     "collapsed": false,
     "input": [
      "# birthdayMatches will return a list of indeces of all people whose birthday matches someone else's\n",
      "\n",
      "def birthdayMatches(birthdays):\n",
      "    matches = []\n",
      "    for i in range(len(birthdays)):\n",
      "        for j in range(i+1, len(birthdays)):\n",
      "            if (birthdays[i] == birthdays[j]):\n",
      "                if (i not in matches):\n",
      "                    matches.append(i);\n",
      "                if (j not in matches):\n",
      "                    matches.append(j);\n",
      "    return matches\n",
      "            \n",
      "birthdayMatches(birthdays)"
     ],
     "language": "python",
     "metadata": {},
     "outputs": [
      {
       "metadata": {},
       "output_type": "pyout",
       "prompt_number": 6,
       "text": [
        "[2, 12, 5, 9]"
       ]
      }
     ],
     "prompt_number": 6
    },
    {
     "cell_type": "code",
     "collapsed": false,
     "input": [
      "hist = {}\n",
      "\n",
      "for _ in range(1000000):\n",
      "    matches = len(birthdayMatches([randrange(365) for _ in range(23)]))\n",
      "    hist[matches] = hist.get(matches, 0) + 1\n",
      "    \n",
      "hist"
     ],
     "language": "python",
     "metadata": {},
     "outputs": [
      {
       "metadata": {},
       "output_type": "pyout",
       "prompt_number": 15,
       "text": [
        "{0: 492516,\n",
        " 2: 363918,\n",
        " 3: 7261,\n",
        " 4: 111037,\n",
        " 5: 4059,\n",
        " 6: 18250,\n",
        " 7: 892,\n",
        " 8: 1845,\n",
        " 9: 104,\n",
        " 10: 104,\n",
        " 11: 10,\n",
        " 12: 4}"
       ]
      }
     ],
     "prompt_number": 15
    },
    {
     "cell_type": "code",
     "collapsed": false,
     "input": [
      "pyplot.bar(hist.keys(), hist.values())\n",
      "pyplot.show()"
     ],
     "language": "python",
     "metadata": {},
     "outputs": [
      {
       "metadata": {},
       "output_type": "pyout",
       "prompt_number": 12,
       "text": [
        "{0: 294007,\n",
        " 2: 379698,\n",
        " 3: 10612,\n",
        " 4: 212998,\n",
        " 5: 10870,\n",
        " 6: 69195,\n",
        " 7: 4931,\n",
        " 8: 14091,\n",
        " 9: 1224,\n",
        " 10: 1948,\n",
        " 11: 191,\n",
        " 12: 194,\n",
        " 13: 25,\n",
        " 14: 14,\n",
        " 15: 1,\n",
        " 16: 1}"
       ]
      }
     ],
     "prompt_number": 12
    },
    {
     "cell_type": "code",
     "collapsed": false,
     "input": [
      "pyplot.title(\"Likelihood of N matching birthdays in a group of 30\")\n",
      "pyplot.xlabel(\"Number of matching birthdays\")\n",
      "pyplot.ylabel(\"Number of groups in a million\")\n",
      "pyplot.bar(hist.keys(), hist.values())\n",
      "pyplot.show()"
     ],
     "language": "python",
     "metadata": {},
     "outputs": [
      {
       "metadata": {},
       "output_type": "display_data",
       "png": "[encoded data removed]",
       "text": [
        "<matplotlib.figure.Figure at 0x107910110>"
       ]
      }
     ],
     "prompt_number": 14
    },
    {
     "cell_type": "code",
     "collapsed": false,
     "input": [],
     "language": "python",
     "metadata": {},
     "outputs": []
    }
   ],
   "metadata": {}
  }
 ]
}