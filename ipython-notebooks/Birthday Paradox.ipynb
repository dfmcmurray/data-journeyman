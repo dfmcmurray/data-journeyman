{
 "metadata": {
  "name": "",
  "signature": "sha256:a6b3ee277804b782b32da11c725e4941c20edd0e63666ff316bd0b929411cade"
 },
 "nbformat": 3,
 "nbformat_minor": 0,
 "worksheets": [
  {
   "cells": [
    {
     "cell_type": "code",
     "collapsed": false,
     "input": [
      "#########################\n",
      "#  Guessing a Birthday  #\n",
      "#########################"
     ],
     "language": "python",
     "metadata": {},
     "outputs": []
    },
    {
     "cell_type": "code",
     "collapsed": false,
     "input": [
      "# The probabilities of guess from a list of 23 and 22 distinct birthdays, repectively.\n",
      "\n",
      "(23.0 / 365, 22.0 / 365)"
     ],
     "language": "python",
     "metadata": {},
     "outputs": []
    },
    {
     "cell_type": "code",
     "collapsed": false,
     "input": [
      "# The probability of guessing from a list of 23 birthdays, some of which could be the same\n",
      "\n",
      "1 - (364./365) ** 23"
     ],
     "language": "python",
     "metadata": {},
     "outputs": []
    },
    {
     "cell_type": "code",
     "collapsed": false,
     "input": [
      "# Create a list of 23 birthdays\n",
      "\n",
      "from random import randrange\n",
      "birthdays = [randrange(365) for _ in range(23)]\n",
      "birthdays"
     ],
     "language": "python",
     "metadata": {},
     "outputs": []
    },
    {
     "cell_type": "code",
     "collapsed": false,
     "input": [
      "# Generate a list of test sizes for our experiment. This will go on the x axis.\n",
      "\n",
      "test_sizes = range(10000, 500001, 20000)\n",
      "test_sizes"
     ],
     "language": "python",
     "metadata": {},
     "outputs": []
    },
    {
     "cell_type": "code",
     "collapsed": false,
     "input": [
      "# Experiment: What is the likelihood of guessing a birthday of the 23 we started with?\n",
      "# This may take a while to run. \n",
      "# Try decressing the numbers in and length of test_sizes to speed it up.\n",
      "\n",
      "probabilities = []\n",
      "for size in test_sizes:\n",
      "    guesses = [randrange(365) for _ in range(size)]\n",
      "    probabilities.append(100.0 * len(filter(lambda(x): x in birthdays, guesses)) / len(guesses))\n",
      "\n",
      "pyplot.title(\"Guessing a Birthday Matching One of 23 People\")\n",
      "pyplot.xlabel(\"Number of Guesses\")\n",
      "pyplot.ylabel(\"Percent Correct\")\n",
      "plot(test_sizes, probabilities)"
     ],
     "language": "python",
     "metadata": {},
     "outputs": []
    },
    {
     "cell_type": "code",
     "collapsed": false,
     "input": [
      "########################\n",
      "#  Pairs of Teammates  #\n",
      "########################"
     ],
     "language": "python",
     "metadata": {},
     "outputs": []
    },
    {
     "cell_type": "code",
     "collapsed": false,
     "input": [
      "# There's a chance that your previous experiment converged on a probability less than 0.063013.\n",
      "# This test will tell you if there is at least one duplicate in your birthday data.\n",
      "# If the test returns True, then your birthday pool was actually less than 23.\n",
      "\n",
      "def birthdayMatch(birthdays):\n",
      "    for i in range(len(birthdays)):\n",
      "        for j in range(i+1, len(birthdays)):\n",
      "            if (birthdays[i] == birthdays[j]):\n",
      "                return True\n",
      "    return False\n",
      "            \n",
      "birthdayMatch(birthdays)"
     ],
     "language": "python",
     "metadata": {},
     "outputs": []
    },
    {
     "cell_type": "code",
     "collapsed": false,
     "input": [
      "# To find the odds of a match, set up a list of 200 groups with 23 birthdays in each group.\n",
      "\n",
      "birthday_groups = [[randrange(365) for _ in range(23)] for _ in range(200)]"
     ],
     "language": "python",
     "metadata": {},
     "outputs": []
    },
    {
     "cell_type": "code",
     "collapsed": false,
     "input": [
      "# Then see how many of them have a matching birthday.\n",
      "# This should be close to half of the total number of groups.\n",
      "\n",
      "groups_with_a_match = filter(birthdayMatch, birthday_groups)\n",
      "len(groups_with_a_match)"
     ],
     "language": "python",
     "metadata": {},
     "outputs": []
    },
    {
     "cell_type": "code",
     "collapsed": false,
     "input": [
      "# Just like we did with the birthday guesses, set up a range of test sizes.\n",
      "# Again, this will be the x axis of our experiment.\n",
      "# Note: I commented out the test sizes I used for the blog post because it took a VERY long time.\n",
      "\n",
      "#group_test_sizes = range(5000, 200001, 5000)\n",
      "group_test_sizes = range(2000, 40001, 2000)\n",
      "group_test_sizes"
     ],
     "language": "python",
     "metadata": {},
     "outputs": []
    },
    {
     "cell_type": "code",
     "collapsed": false,
     "input": [
      "# Experiment: What is the likelihood of at least two people sharing a birthday from a group of 23?\n",
      "# Note: Even using the smaller test sizes, this will take a bit of time to run.\n",
      "\n",
      "probabilities = []\n",
      "for size in group_test_sizes:\n",
      "    birthday_groups = [[randrange(365) for _ in range(23)] for _ in range(size)]\n",
      "    probabilities.append(100.0 * len(filter(birthdayMatch, birthday_groups)) / len(birthday_groups))\n",
      "\n",
      "pyplot.title(\"Likelihood of At Least 2 People Sharing a Birthday in a Group of 23\")\n",
      "pyplot.xlabel(\"Sample Size\")\n",
      "pyplot.ylabel(\"Percentage of Matches\")\n",
      "plot(group_test_sizes, probabilities)"
     ],
     "language": "python",
     "metadata": {},
     "outputs": []
    },
    {
     "cell_type": "code",
     "collapsed": false,
     "input": [
      "#########################\n",
      "#  Beyond Soccer Teams  #\n",
      "#########################"
     ],
     "language": "python",
     "metadata": {},
     "outputs": []
    },
    {
     "cell_type": "code",
     "collapsed": false,
     "input": [
      "# Instead of looking only at group sizes of 23, let's look at a range of group sizes\n",
      "\n",
      "group_sizes = range(2, 101)"
     ],
     "language": "python",
     "metadata": {},
     "outputs": []
    },
    {
     "cell_type": "code",
     "collapsed": false,
     "input": [
      "# Experiment: What is the likelihood of two people sharing a birthday in groups of varying sizes?\n",
      "# Note: The experiment run for the blog with sample sizes of 50000 took an extremely long time to run.\n",
      "#       I recommend running an approximate experiment with sample sizes of 1000 instead.\n",
      "\n",
      "probabilities = []\n",
      "for size in group_sizes:\n",
      "#    birthday_groups = [[randrange(365) for _ in range(size)] for _ in range(50000)]\n",
      "    birthday_groups = [[randrange(365) for _ in range(size)] for _ in range(1000)]\n",
      "    probabilities.append(100.0 * len(filter(birthdayMatch, birthday_groups)) / len(birthday_groups))\n",
      "\n",
      "pyplot.title(\"Likelihood of At Least 2 People Sharing a Birthday in a Group\")\n",
      "pyplot.xlabel(\"Group Size\")\n",
      "pyplot.ylabel(\"Likelihood of a Match\")\n",
      "plot(group_sizes, probabilities)"
     ],
     "language": "python",
     "metadata": {},
     "outputs": []
    },
    {
     "cell_type": "code",
     "collapsed": false,
     "input": [
      "##########################\n",
      "#  N Matching Birthdays  #\n",
      "##########################"
     ],
     "language": "python",
     "metadata": {},
     "outputs": []
    },
    {
     "cell_type": "code",
     "collapsed": false,
     "input": [
      "# birthdayMatches will return a list of indeces of all people whose birthday matches someone else's\n",
      "\n",
      "def birthdayMatches(birthdays):\n",
      "    matches = []\n",
      "    for i in range(len(birthdays)):\n",
      "        if (i not in matches):\n",
      "            for j in range(i+1, len(birthdays)):\n",
      "                if (birthdays[i] == birthdays[j]):\n",
      "                    if (i not in matches):\n",
      "                        matches.append(i);\n",
      "                    if (j not in matches):\n",
      "                        matches.append(j);\n",
      "    return matches\n",
      "            \n",
      "birthdayMatches(birthdays)"
     ],
     "language": "python",
     "metadata": {},
     "outputs": []
    },
    {
     "cell_type": "code",
     "collapsed": false,
     "input": [
      "# Run a million trials to see exactly how many matches in each.\n",
      "# Note: This will take some time to run.\n",
      "\n",
      "hist = {}\n",
      "\n",
      "for _ in range(1000000):\n",
      "    matches = len(birthdayMatches([randrange(365) for _ in range(23)]))\n",
      "    hist[matches] = hist.get(matches, 0) + 1\n",
      "    \n",
      "hist"
     ],
     "language": "python",
     "metadata": {},
     "outputs": []
    },
    {
     "cell_type": "code",
     "collapsed": false,
     "input": [
      "# Plot the raw data \n",
      "\n",
      "pyplot.title(\"Occurences of N matching birthdays in a group of 23\")\n",
      "pyplot.xlabel(\"Number of matching birthdays\")\n",
      "pyplot.ylabel(\"Number of groups in a million\")\n",
      "pyplot.bar(hist.keys(), hist.values())\n",
      "#pyplot.bar(hist.keys(), hist.values(), log=True)\n",
      "pyplot.show()"
     ],
     "language": "python",
     "metadata": {},
     "outputs": []
    },
    {
     "cell_type": "code",
     "collapsed": false,
     "input": [
      "# Calculate the cumulative sum to see the probability of having at least N matches\n",
      "\n",
      "arr = []\n",
      "for key in range(min(hist.keys()), max(hist.keys())+1):\n",
      "    arr.append(hist.get(key, 0))\n",
      "    \n",
      "arr.reverse()\n",
      "array(arr).cumsum()/10000."
     ],
     "language": "python",
     "metadata": {},
     "outputs": []
    },
    {
     "cell_type": "code",
     "collapsed": false,
     "input": [
      "# Plot the cumulative sum\n",
      "\n",
      "pyplot.title(\"Likelihood of at least N matching birthdays in a group of 23\")\n",
      "pyplot.xlabel(\"Minimum number of matching birthdays\")\n",
      "pyplot.ylabel(\"Number of groups in a million\")\n",
      "pyplot.bar(list(reversed(range(len(arr)))), array(arr).cumsum()/10000.)\n",
      "pyplot.show()"
     ],
     "language": "python",
     "metadata": {},
     "outputs": []
    }
   ],
   "metadata": {}
  }
 ]
}