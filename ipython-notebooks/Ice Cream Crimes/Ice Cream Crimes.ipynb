{
 "metadata": {
  "name": "",
  "signature": "sha256:7cdee379fa2b744d0b2afaa0a74b1818b7f4d036e40358054f62475d8937e755"
 },
 "nbformat": 3,
 "nbformat_minor": 0,
 "worksheets": [
  {
   "cells": [
    {
     "cell_type": "code",
     "collapsed": false,
     "input": [
      "import pandas as pd"
     ],
     "language": "python",
     "metadata": {},
     "outputs": []
    },
    {
     "cell_type": "code",
     "collapsed": false,
     "input": [
      "# Initial attempt to find useful data. However, after not being able to \n",
      "# find violent crime data for the same timeframe, I ended up not using this data.\n",
      "\n",
      "data = pd.read_csv(\"ice-cream-data.csv\", delimiter=r\"\\s+\")\n",
      "data"
     ],
     "language": "python",
     "metadata": {},
     "outputs": []
    },
    {
     "cell_type": "code",
     "collapsed": false,
     "input": [
      "# Adding `actualDate` to data from previous cell.\n",
      "\n",
      "import datetime as dt\n",
      "startDate = dt.date(1951, 3, 18)\n",
      "dataDates = []\n",
      "for i in range(len(data)):\n",
      "    dataDates.append(startDate + dt.timedelta(weeks=(i*4)))\n",
      "data[\"actualDate\"] = dataDates\n",
      "data"
     ],
     "language": "python",
     "metadata": {},
     "outputs": []
    },
    {
     "cell_type": "code",
     "collapsed": false,
     "input": [
      "# Ice Cream Sales data that I ended up using.\n",
      "\n",
      "ice_cream_sales = pd.read_csv(\"ice-cream-sales-international-united-nations.csv\")\n",
      "ice_cream_sales = pd.melt(ice_cream_sales, id_vars=[\"Year\"], var_name=\"Country or Area\", value_name=\"Ice Cream Sales (1M USD)\")\n",
      "ice_cream_sales.head(20)"
     ],
     "language": "python",
     "metadata": {},
     "outputs": []
    },
    {
     "cell_type": "code",
     "collapsed": false,
     "input": [
      "# Homicide data that I ended up using.\n",
      "\n",
      "homicides = pd.read_csv(\"homicide-rates-international-united-nations.csv\")\n",
      "homicides.rename(columns={'Count': 'Homicide Count', 'Rate': 'Homicide Rate', 'Source': 'Source (Homicide)', 'Source Type': 'Source Type (Homicide)'}, inplace=True)\n",
      "homicides.head(20)"
     ],
     "language": "python",
     "metadata": {},
     "outputs": []
    },
    {
     "cell_type": "code",
     "collapsed": false,
     "input": [
      "# Combine the ice cream sales and homicide data on both `Year` and `Country or Area`.\n",
      "# Also, remove any rows that have null values in any column.\n",
      "\n",
      "data = pd.merge(ice_cream_sales, homicides, on=[\"Year\", \"Country or Area\"])\n",
      "data = data.dropna()\n",
      "data"
     ],
     "language": "python",
     "metadata": {},
     "outputs": []
    },
    {
     "cell_type": "code",
     "collapsed": false,
     "input": [
      "data[\"Country or Area\"].unique()"
     ],
     "language": "python",
     "metadata": {},
     "outputs": []
    },
    {
     "cell_type": "code",
     "collapsed": false,
     "input": [
      "pyplot.title(\"Correlation between Ice Cream Sales and Homicides\")\n",
      "pyplot.xlabel(\"Homicide Count\")\n",
      "pyplot.ylabel(\"Ice Cream Sales (1M USD)\")\n",
      "scatter(data[\"Homicide Count\"], data[\"Ice Cream Sales (1M USD)\"])"
     ],
     "language": "python",
     "metadata": {},
     "outputs": []
    },
    {
     "cell_type": "code",
     "collapsed": false,
     "input": [
      "data.corr()"
     ],
     "language": "python",
     "metadata": {},
     "outputs": []
    },
    {
     "cell_type": "code",
     "collapsed": false,
     "input": [],
     "language": "python",
     "metadata": {},
     "outputs": []
    }
   ],
   "metadata": {}
  }
 ]
}