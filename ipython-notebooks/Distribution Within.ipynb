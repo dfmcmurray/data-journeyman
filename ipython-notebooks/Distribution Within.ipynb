{
 "metadata": {
  "name": "",
  "signature": "sha256:e45f8341231102e782cf0dacb7632806e6ac9ed15f4b5b642c3873ffd2a4ab1f"
 },
 "nbformat": 3,
 "nbformat_minor": 0,
 "worksheets": [
  {
   "cells": [
    {
     "cell_type": "code",
     "collapsed": false,
     "input": [
      "import random #override numpy.random"
     ],
     "language": "python",
     "metadata": {},
     "outputs": []
    },
    {
     "cell_type": "code",
     "collapsed": false,
     "input": [
      "alpha = 3\n",
      "pareto_xs = [random.paretovariate(alpha) for _ in range(1000)]\n",
      "pareto_hist_vals, pareto_bins = histogram(pareto_xs, bins=linspace(min(pareto_xs), max(pareto_xs), num=len(pareto_xs)+1))\n",
      "pareto_pmf_vals = array([float(val)/sum(pareto_hist_vals) for val in pareto_hist_vals])\n",
      "pareto_cdf_vals = pareto_pmf_vals.cumsum()\n",
      "pareto_ccdf_vals = [1-p for p in pareto_cdf_vals]"
     ],
     "language": "python",
     "metadata": {},
     "outputs": []
    },
    {
     "cell_type": "code",
     "collapsed": false,
     "input": [
      "plot(pareto_bins[:1000],pareto_pmf_vals)"
     ],
     "language": "python",
     "metadata": {},
     "outputs": []
    },
    {
     "cell_type": "code",
     "collapsed": false,
     "input": [
      "plot(pareto_bins[:1000], pareto_cdf_vals)"
     ],
     "language": "python",
     "metadata": {},
     "outputs": []
    },
    {
     "cell_type": "code",
     "collapsed": false,
     "input": [
      "pyplot.title('Pareto CCDF, log-log scale')\n",
      "pyplot.xscale('log')\n",
      "pyplot.yscale('log')\n",
      "plot(pareto_bins[:1000], pareto_ccdf_vals)"
     ],
     "language": "python",
     "metadata": {},
     "outputs": []
    },
    {
     "cell_type": "code",
     "collapsed": false,
     "input": [
      "def rankits(n=1000, m=10, distFn=random.normalvariate, distParams=(0,1)):\n",
      "    \"\"\"Generate rankits from a distributions.\n",
      "\n",
      "    Keyword arguments:\n",
      "    n -- the number of rankits to generate (default 1000)\n",
      "    m -- the multiplier for more accurate results (default 10)\n",
      "    distFn -- a function that return a random variable from the distribution (default random.normalvariate)\n",
      "    distParams -- the parameters to be passed into distFn (default (0,1))\n",
      "    \"\"\"\n",
      "    \n",
      "    return sorted([distFn(*distParams) for _ in range((n+1)*m)])[m::m]"
     ],
     "language": "python",
     "metadata": {},
     "outputs": []
    },
    {
     "cell_type": "code",
     "collapsed": false,
     "input": [
      "norm_ys = sorted([random.normalvariate(20, 10) for _ in range(1000)])\n",
      "norm_rankits = rankits()\n",
      "pyplot.title(\"Normal Data Plot\")\n",
      "pyplot.ylabel(\"data values\")\n",
      "pyplot.xlabel(\"rankits\")\n",
      "plot(norm_rankits, norm_ys)"
     ],
     "language": "python",
     "metadata": {},
     "outputs": []
    },
    {
     "cell_type": "code",
     "collapsed": false,
     "input": [
      "exp_ys = sorted([random.expovariate(4) for _ in range(1000)])\n",
      "exp_rankits = rankits(distFn=random.expovariate, distParams=(4,))\n",
      "pyplot.title(\"Exponential Data Plot\")\n",
      "pyplot.ylabel(\"data values\")\n",
      "pyplot.xlabel(\"rankits\")\n",
      "plot(exp_rankits, exp_ys)"
     ],
     "language": "python",
     "metadata": {},
     "outputs": []
    },
    {
     "cell_type": "code",
     "collapsed": false,
     "input": [
      "pareto_ys = sorted([random.paretovariate(2) for _ in range(1000)])\n",
      "pareto_rankits = rankits(distFn=random.paretovariate, distParams=(2,), m=5000)\n",
      "pyplot.title(\"Pareto Data Plot\")\n",
      "pyplot.ylabel(\"data values\")\n",
      "pyplot.xlabel(\"rankits\")\n",
      "plot(pareto_rankits, pareto_ys)"
     ],
     "language": "python",
     "metadata": {},
     "outputs": []
    },
    {
     "cell_type": "code",
     "collapsed": false,
     "input": [
      "#Generate Post Logo\n",
      "\n",
      "from scipy.stats import norm\n",
      "x = np.linspace(-8,8,300)\n",
      "plt.axis(\"off\")\n",
      "plt.tight_layout(h_pad=0.4)\n",
      "plt.plot(x,norm.cdf(x,0,0.25),color=\"black\",linewidth=3)\n",
      "plt.plot(x,norm.cdf(x,0,0.5),color=\"black\",linewidth=3)\n",
      "plt.plot(x,norm.cdf(x,0,1),color=\"black\",linewidth=3)\n",
      "plt.plot(x,norm.cdf(x,0,1.5),color=\"black\",linewidth=3)\n",
      "plt.plot(x,norm.cdf(x,0,2),color=\"black\",linewidth=3)\n",
      "plt.plot(x,norm.cdf(x,0,3),color=\"black\",linewidth=3)"
     ],
     "language": "python",
     "metadata": {},
     "outputs": [
      {
       "metadata": {},
       "output_type": "pyout",
       "prompt_number": 99,
       "text": [
        "[<matplotlib.lines.Line2D at 0x11458a290>]"
       ]
      },
      {
       "metadata": {},
       "output_type": "display_data",
       "png": "[encoded data removed]",
       "text": [
        "<matplotlib.figure.Figure at 0x11431a150>"
       ]
      }
     ],
     "prompt_number": 99
    },
    {
     "cell_type": "code",
     "collapsed": false,
     "input": [],
     "language": "python",
     "metadata": {},
     "outputs": []
    }
   ],
   "metadata": {}
  }
 ]
}