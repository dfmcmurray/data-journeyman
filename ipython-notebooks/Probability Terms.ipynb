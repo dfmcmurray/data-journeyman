{
 "metadata": {
  "name": "",
  "signature": "sha256:6220e90f5257e6657d99adcdbf114ff41b7823cfd20205a03a039f73a19663f1"
 },
 "nbformat": 3,
 "nbformat_minor": 0,
 "worksheets": [
  {
   "cells": [
    {
     "cell_type": "code",
     "collapsed": false,
     "input": [
      "# Generate 20 random values between 0 and 100.\n",
      "data = [int(random.random() * 100) for _ in range(20)]\n",
      "data"
     ],
     "language": "python",
     "metadata": {},
     "outputs": []
    },
    {
     "cell_type": "code",
     "collapsed": false,
     "input": [
      "# Use numpy.histogram to create a histogram object.\n",
      "freqs, bins = histogram(data, linspace(0, 100, 11))\n",
      "freqs, bins"
     ],
     "language": "python",
     "metadata": {},
     "outputs": []
    },
    {
     "cell_type": "code",
     "collapsed": false,
     "input": [
      "# Plot the histogram as a bar graph.\n",
      "# To do this properly, we have to remove the last bin value \n",
      "# (to make the bin list be the same length as the values), and\n",
      "# pass in the bin width as the third parameter.\n",
      "plt.title('Histogram')\n",
      "bar(bins[:-1], freqs, 10)"
     ],
     "language": "python",
     "metadata": {},
     "outputs": []
    },
    {
     "cell_type": "code",
     "collapsed": false,
     "input": [
      "# Use matplotlib's hist to plot a histogram. \n",
      "# (Same as above, but we passed in values instead of frequencies.)\n",
      "plt.title('Histogram')\n",
      "hist(data, bins)"
     ],
     "language": "python",
     "metadata": {},
     "outputs": []
    },
    {
     "cell_type": "code",
     "collapsed": false,
     "input": [
      "# Plotting the PMF.\n",
      "data_count = sum(freqs)\n",
      "ps = [round(float(f)/data_count, 2) for f in freqs]\n",
      "plt.title('Probability Mass Function')\n",
      "bar(bins[:-1], ps, 10)"
     ],
     "language": "python",
     "metadata": {},
     "outputs": []
    },
    {
     "cell_type": "code",
     "collapsed": false,
     "input": [
      "# Plotting the CDF\n",
      "cdf_ps = array(ps).cumsum()\n",
      "plt.title('Cumulative Distribution Function')\n",
      "step(bins[1:], cdf_ps)"
     ],
     "language": "python",
     "metadata": {},
     "outputs": []
    },
    {
     "cell_type": "code",
     "collapsed": false,
     "input": [],
     "language": "python",
     "metadata": {},
     "outputs": []
    }
   ],
   "metadata": {}
  }
 ]
}