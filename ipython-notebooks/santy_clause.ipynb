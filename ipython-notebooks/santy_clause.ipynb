{
 "cells": [
  {
   "cell_type": "code",
   "execution_count": 1,
   "metadata": {
    "collapsed": true
   },
   "outputs": [],
   "source": [
    "import random"
   ]
  },
  {
   "cell_type": "code",
   "execution_count": 2,
   "metadata": {
    "collapsed": false
   },
   "outputs": [],
   "source": [
    "def santy_clause(switch):\n",
    "    gift = random.randint(1,3)\n",
    "    guess = random.randint(1,3)\n",
    "    if (guess == gift):\n",
    "        revealed = random.choice([x for x in range(1,4) if x!=guess])\n",
    "    else:\n",
    "        revealed = [x for x in range(1,4) if x!=guess and x!=gift][0]\n",
    "    if switch:\n",
    "        guess = [x for x in range(1,4) if x!=guess and x!=revealed][0]\n",
    "    return guess == gift"
   ]
  },
  {
   "cell_type": "code",
   "execution_count": 3,
   "metadata": {
    "collapsed": false
   },
   "outputs": [
    {
     "name": "stdout",
     "output_type": "stream",
     "text": [
      "0.3365 0.6707\n"
     ]
    }
   ],
   "source": [
    "no_switch_trials = map(int, [santy_clause(False) for _ in range(10000)])\n",
    "switch_trials = map(int, [santy_clause(True) for _ in range(10000)])\n",
    "print float(sum(no_switch_trials))/len(no_switch_trials), float(sum(switch_trials))/len(switch_trials)"
   ]
  },
  {
   "cell_type": "code",
   "execution_count": 4,
   "metadata": {
    "collapsed": false
   },
   "outputs": [],
   "source": [
    "def dumb_santy_clause(switch):\n",
    "    gift = random.randint(1,3)\n",
    "    guess = random.randint(1,3)\n",
    "    revealed = random.choice([x for x in range(1,4) if x!=guess])\n",
    "    if (revealed == gift):\n",
    "        return False\n",
    "    else:\n",
    "        if switch:\n",
    "            guess = [x for x in range(1,4) if x!=guess and x!=revealed][0]\n",
    "    return guess == gift"
   ]
  },
  {
   "cell_type": "code",
   "execution_count": 5,
   "metadata": {
    "collapsed": false
   },
   "outputs": [
    {
     "name": "stdout",
     "output_type": "stream",
     "text": [
      "0.3415 0.3354\n"
     ]
    }
   ],
   "source": [
    "no_switch_trials = map(int, [dumb_santy_clause(False) for _ in range(10000)])\n",
    "switch_trials = map(int, [dumb_santy_clause(True) for _ in range(10000)])\n",
    "print float(sum(no_switch_trials))/len(no_switch_trials), float(sum(switch_trials))/len(switch_trials)"
   ]
  },
  {
   "cell_type": "code",
   "execution_count": null,
   "metadata": {
    "collapsed": true
   },
   "outputs": [],
   "source": []
  }
 ],
 "metadata": {
  "kernelspec": {
   "display_name": "Python 2",
   "language": "python",
   "name": "python2"
  },
  "language_info": {
   "codemirror_mode": {
    "name": "ipython",
    "version": 2
   },
   "file_extension": ".py",
   "mimetype": "text/x-python",
   "name": "python",
   "nbconvert_exporter": "python",
   "pygments_lexer": "ipython2",
   "version": "2.7.9"
  }
 },
 "nbformat": 4,
 "nbformat_minor": 0
}
